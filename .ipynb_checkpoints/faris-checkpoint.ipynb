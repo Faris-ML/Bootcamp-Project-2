{
 "cells": [
  {
   "cell_type": "code",
   "execution_count": 1,
   "id": "69854c57",
   "metadata": {},
   "outputs": [],
   "source": [
    "import matplotlib.pyplot as plt\n",
    "import pandas as pd\n",
    "import numpy as np"
   ]
  },
  {
   "cell_type": "code",
   "execution_count": 4,
   "id": "57188e78",
   "metadata": {},
   "outputs": [],
   "source": [
    "data=pd.read_csv('Heart_Disease_Prediction.csv')"
   ]
  },
  {
   "cell_type": "code",
   "execution_count": 5,
   "id": "17034891",
   "metadata": {},
   "outputs": [],
   "source": [
    "data.columns = ['Age','Sex','Chest_pain_type', 'Blood_pressure','Cholesterol','Fasting_blood_sugar_over_120','EKG_results',\n",
    "'Max_heart_rate_achieved','Exercise_angina','ST_depression','Slope_of_ST','Number_of_vessels_fluro',\n",
    "'Thallium','Heart_disease']\n",
    "\n",
    "data['Sex']=data['Sex'].replace(to_replace=[0,1],\n",
    "           value=['femal','male'])\n",
    "\n",
    "data['Chest_pain_type']=data['Chest_pain_type'].replace(to_replace=[1,2,3,4],\n",
    "           value=['TA','ATA','NAP','ASY'])\n",
    "\n",
    "data['Heart_disease']=data['Heart_disease'].replace(to_replace=['Absence','Presence'],\n",
    "           value=['No heart Disease','Heart Disease'])\n"
   ]
  },
  {
   "cell_type": "code",
   "execution_count": null,
   "id": "7bb1c8c1",
   "metadata": {},
   "outputs": [],
   "source": []
  }
 ],
 "metadata": {
  "kernelspec": {
   "display_name": "Python 3 (ipykernel)",
   "language": "python",
   "name": "python3"
  },
  "language_info": {
   "codemirror_mode": {
    "name": "ipython",
    "version": 3
   },
   "file_extension": ".py",
   "mimetype": "text/x-python",
   "name": "python",
   "nbconvert_exporter": "python",
   "pygments_lexer": "ipython3",
   "version": "3.8.10"
  }
 },
 "nbformat": 4,
 "nbformat_minor": 5
}
