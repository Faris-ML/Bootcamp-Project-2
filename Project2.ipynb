{
 "cells": [
  {
   "cell_type": "markdown",
   "id": "f1eaef9c",
   "metadata": {},
   "source": [
    "## Import the Required Libraries"
   ]
  },
  {
   "cell_type": "code",
   "execution_count": 13,
   "id": "0a6b2f73",
   "metadata": {},
   "outputs": [
    {
     "ename": "ModuleNotFoundError",
     "evalue": "No module named 'pandas_profiling'",
     "output_type": "error",
     "traceback": [
      "\u001b[1;31m---------------------------------------------------------------------------\u001b[0m",
      "\u001b[1;31mModuleNotFoundError\u001b[0m                       Traceback (most recent call last)",
      "\u001b[1;32m~\\AppData\\Local\\Temp\\ipykernel_16192\\2407002768.py\u001b[0m in \u001b[0;36m<module>\u001b[1;34m\u001b[0m\n\u001b[0;32m      2\u001b[0m \u001b[1;32mimport\u001b[0m \u001b[0mnumpy\u001b[0m \u001b[1;32mas\u001b[0m \u001b[0mnp\u001b[0m\u001b[1;33m\u001b[0m\u001b[1;33m\u001b[0m\u001b[0m\n\u001b[0;32m      3\u001b[0m \u001b[1;32mimport\u001b[0m \u001b[0mmatplotlib\u001b[0m\u001b[1;33m.\u001b[0m\u001b[0mpyplot\u001b[0m \u001b[1;32mas\u001b[0m \u001b[0mplt\u001b[0m\u001b[1;33m\u001b[0m\u001b[1;33m\u001b[0m\u001b[0m\n\u001b[1;32m----> 4\u001b[1;33m \u001b[1;32mfrom\u001b[0m \u001b[0mpandas_profiling\u001b[0m \u001b[1;32mimport\u001b[0m \u001b[0mProfileReport\u001b[0m\u001b[1;33m\u001b[0m\u001b[1;33m\u001b[0m\u001b[0m\n\u001b[0m",
      "\u001b[1;31mModuleNotFoundError\u001b[0m: No module named 'pandas_profiling'"
     ]
    }
   ],
   "source": [
    "import pandas as pd\n",
    "import numpy as np\n",
    "import matplotlib.pyplot as plt\n",
    "from pandas_profiling import ProfileReport"
   ]
  },
  {
   "cell_type": "markdown",
   "id": "2137581c",
   "metadata": {},
   "source": [
    "# Data reading and profiling"
   ]
  },
  {
   "cell_type": "markdown",
   "id": "7e7e1b68",
   "metadata": {},
   "source": [
    "### importing our dataset."
   ]
  },
  {
   "cell_type": "code",
   "execution_count": 4,
   "id": "5534858b",
   "metadata": {},
   "outputs": [
    {
     "name": "stdout",
     "output_type": "stream",
     "text": [
      "Shape of DataFrame: (270, 14)\n"
     ]
    }
   ],
   "source": [
    "Data = pd.read_csv('Heart_Disease_Prediction.csv')\n",
    "\n",
    "print( 'Shape of DataFrame:', Data.shape)"
   ]
  },
  {
   "cell_type": "markdown",
   "id": "31a5b88f",
   "metadata": {},
   "source": [
    "### checking first five rows"
   ]
  },
  {
   "cell_type": "code",
   "execution_count": 5,
   "id": "66563795",
   "metadata": {},
   "outputs": [
    {
     "data": {
      "text/html": [
       "<div>\n",
       "<style scoped>\n",
       "    .dataframe tbody tr th:only-of-type {\n",
       "        vertical-align: middle;\n",
       "    }\n",
       "\n",
       "    .dataframe tbody tr th {\n",
       "        vertical-align: top;\n",
       "    }\n",
       "\n",
       "    .dataframe thead th {\n",
       "        text-align: right;\n",
       "    }\n",
       "</style>\n",
       "<table border=\"1\" class=\"dataframe\">\n",
       "  <thead>\n",
       "    <tr style=\"text-align: right;\">\n",
       "      <th></th>\n",
       "      <th>Age</th>\n",
       "      <th>Sex</th>\n",
       "      <th>Chest pain type</th>\n",
       "      <th>BP</th>\n",
       "      <th>Cholesterol</th>\n",
       "      <th>FBS over 120</th>\n",
       "      <th>EKG results</th>\n",
       "      <th>Max HR</th>\n",
       "      <th>Exercise angina</th>\n",
       "      <th>ST depression</th>\n",
       "      <th>Slope of ST</th>\n",
       "      <th>Number of vessels fluro</th>\n",
       "      <th>Thallium</th>\n",
       "      <th>Heart Disease</th>\n",
       "    </tr>\n",
       "  </thead>\n",
       "  <tbody>\n",
       "    <tr>\n",
       "      <th>0</th>\n",
       "      <td>70</td>\n",
       "      <td>1</td>\n",
       "      <td>4</td>\n",
       "      <td>130</td>\n",
       "      <td>322</td>\n",
       "      <td>0</td>\n",
       "      <td>2</td>\n",
       "      <td>109</td>\n",
       "      <td>0</td>\n",
       "      <td>2.4</td>\n",
       "      <td>2</td>\n",
       "      <td>3</td>\n",
       "      <td>3</td>\n",
       "      <td>Presence</td>\n",
       "    </tr>\n",
       "    <tr>\n",
       "      <th>1</th>\n",
       "      <td>67</td>\n",
       "      <td>0</td>\n",
       "      <td>3</td>\n",
       "      <td>115</td>\n",
       "      <td>564</td>\n",
       "      <td>0</td>\n",
       "      <td>2</td>\n",
       "      <td>160</td>\n",
       "      <td>0</td>\n",
       "      <td>1.6</td>\n",
       "      <td>2</td>\n",
       "      <td>0</td>\n",
       "      <td>7</td>\n",
       "      <td>Absence</td>\n",
       "    </tr>\n",
       "    <tr>\n",
       "      <th>2</th>\n",
       "      <td>57</td>\n",
       "      <td>1</td>\n",
       "      <td>2</td>\n",
       "      <td>124</td>\n",
       "      <td>261</td>\n",
       "      <td>0</td>\n",
       "      <td>0</td>\n",
       "      <td>141</td>\n",
       "      <td>0</td>\n",
       "      <td>0.3</td>\n",
       "      <td>1</td>\n",
       "      <td>0</td>\n",
       "      <td>7</td>\n",
       "      <td>Presence</td>\n",
       "    </tr>\n",
       "    <tr>\n",
       "      <th>3</th>\n",
       "      <td>64</td>\n",
       "      <td>1</td>\n",
       "      <td>4</td>\n",
       "      <td>128</td>\n",
       "      <td>263</td>\n",
       "      <td>0</td>\n",
       "      <td>0</td>\n",
       "      <td>105</td>\n",
       "      <td>1</td>\n",
       "      <td>0.2</td>\n",
       "      <td>2</td>\n",
       "      <td>1</td>\n",
       "      <td>7</td>\n",
       "      <td>Absence</td>\n",
       "    </tr>\n",
       "    <tr>\n",
       "      <th>4</th>\n",
       "      <td>74</td>\n",
       "      <td>0</td>\n",
       "      <td>2</td>\n",
       "      <td>120</td>\n",
       "      <td>269</td>\n",
       "      <td>0</td>\n",
       "      <td>2</td>\n",
       "      <td>121</td>\n",
       "      <td>1</td>\n",
       "      <td>0.2</td>\n",
       "      <td>1</td>\n",
       "      <td>1</td>\n",
       "      <td>3</td>\n",
       "      <td>Absence</td>\n",
       "    </tr>\n",
       "  </tbody>\n",
       "</table>\n",
       "</div>"
      ],
      "text/plain": [
       "   Age  Sex  Chest pain type   BP  Cholesterol  FBS over 120  EKG results  \\\n",
       "0   70    1                4  130          322             0            2   \n",
       "1   67    0                3  115          564             0            2   \n",
       "2   57    1                2  124          261             0            0   \n",
       "3   64    1                4  128          263             0            0   \n",
       "4   74    0                2  120          269             0            2   \n",
       "\n",
       "   Max HR  Exercise angina  ST depression  Slope of ST  \\\n",
       "0     109                0            2.4            2   \n",
       "1     160                0            1.6            2   \n",
       "2     141                0            0.3            1   \n",
       "3     105                1            0.2            2   \n",
       "4     121                1            0.2            1   \n",
       "\n",
       "   Number of vessels fluro  Thallium Heart Disease  \n",
       "0                        3         3      Presence  \n",
       "1                        0         7       Absence  \n",
       "2                        0         7      Presence  \n",
       "3                        1         7       Absence  \n",
       "4                        1         3       Absence  "
      ]
     },
     "execution_count": 5,
     "metadata": {},
     "output_type": "execute_result"
    }
   ],
   "source": [
    "Data.head()"
   ]
  },
  {
   "cell_type": "markdown",
   "id": "f1190363",
   "metadata": {},
   "source": [
    "### checking last five rows"
   ]
  },
  {
   "cell_type": "code",
   "execution_count": 6,
   "id": "52d0e52c",
   "metadata": {
    "scrolled": true
   },
   "outputs": [
    {
     "data": {
      "text/html": [
       "<div>\n",
       "<style scoped>\n",
       "    .dataframe tbody tr th:only-of-type {\n",
       "        vertical-align: middle;\n",
       "    }\n",
       "\n",
       "    .dataframe tbody tr th {\n",
       "        vertical-align: top;\n",
       "    }\n",
       "\n",
       "    .dataframe thead th {\n",
       "        text-align: right;\n",
       "    }\n",
       "</style>\n",
       "<table border=\"1\" class=\"dataframe\">\n",
       "  <thead>\n",
       "    <tr style=\"text-align: right;\">\n",
       "      <th></th>\n",
       "      <th>Age</th>\n",
       "      <th>Sex</th>\n",
       "      <th>Chest pain type</th>\n",
       "      <th>BP</th>\n",
       "      <th>Cholesterol</th>\n",
       "      <th>FBS over 120</th>\n",
       "      <th>EKG results</th>\n",
       "      <th>Max HR</th>\n",
       "      <th>Exercise angina</th>\n",
       "      <th>ST depression</th>\n",
       "      <th>Slope of ST</th>\n",
       "      <th>Number of vessels fluro</th>\n",
       "      <th>Thallium</th>\n",
       "      <th>Heart Disease</th>\n",
       "    </tr>\n",
       "  </thead>\n",
       "  <tbody>\n",
       "    <tr>\n",
       "      <th>265</th>\n",
       "      <td>52</td>\n",
       "      <td>1</td>\n",
       "      <td>3</td>\n",
       "      <td>172</td>\n",
       "      <td>199</td>\n",
       "      <td>1</td>\n",
       "      <td>0</td>\n",
       "      <td>162</td>\n",
       "      <td>0</td>\n",
       "      <td>0.5</td>\n",
       "      <td>1</td>\n",
       "      <td>0</td>\n",
       "      <td>7</td>\n",
       "      <td>Absence</td>\n",
       "    </tr>\n",
       "    <tr>\n",
       "      <th>266</th>\n",
       "      <td>44</td>\n",
       "      <td>1</td>\n",
       "      <td>2</td>\n",
       "      <td>120</td>\n",
       "      <td>263</td>\n",
       "      <td>0</td>\n",
       "      <td>0</td>\n",
       "      <td>173</td>\n",
       "      <td>0</td>\n",
       "      <td>0.0</td>\n",
       "      <td>1</td>\n",
       "      <td>0</td>\n",
       "      <td>7</td>\n",
       "      <td>Absence</td>\n",
       "    </tr>\n",
       "    <tr>\n",
       "      <th>267</th>\n",
       "      <td>56</td>\n",
       "      <td>0</td>\n",
       "      <td>2</td>\n",
       "      <td>140</td>\n",
       "      <td>294</td>\n",
       "      <td>0</td>\n",
       "      <td>2</td>\n",
       "      <td>153</td>\n",
       "      <td>0</td>\n",
       "      <td>1.3</td>\n",
       "      <td>2</td>\n",
       "      <td>0</td>\n",
       "      <td>3</td>\n",
       "      <td>Absence</td>\n",
       "    </tr>\n",
       "    <tr>\n",
       "      <th>268</th>\n",
       "      <td>57</td>\n",
       "      <td>1</td>\n",
       "      <td>4</td>\n",
       "      <td>140</td>\n",
       "      <td>192</td>\n",
       "      <td>0</td>\n",
       "      <td>0</td>\n",
       "      <td>148</td>\n",
       "      <td>0</td>\n",
       "      <td>0.4</td>\n",
       "      <td>2</td>\n",
       "      <td>0</td>\n",
       "      <td>6</td>\n",
       "      <td>Absence</td>\n",
       "    </tr>\n",
       "    <tr>\n",
       "      <th>269</th>\n",
       "      <td>67</td>\n",
       "      <td>1</td>\n",
       "      <td>4</td>\n",
       "      <td>160</td>\n",
       "      <td>286</td>\n",
       "      <td>0</td>\n",
       "      <td>2</td>\n",
       "      <td>108</td>\n",
       "      <td>1</td>\n",
       "      <td>1.5</td>\n",
       "      <td>2</td>\n",
       "      <td>3</td>\n",
       "      <td>3</td>\n",
       "      <td>Presence</td>\n",
       "    </tr>\n",
       "  </tbody>\n",
       "</table>\n",
       "</div>"
      ],
      "text/plain": [
       "     Age  Sex  Chest pain type   BP  Cholesterol  FBS over 120  EKG results  \\\n",
       "265   52    1                3  172          199             1            0   \n",
       "266   44    1                2  120          263             0            0   \n",
       "267   56    0                2  140          294             0            2   \n",
       "268   57    1                4  140          192             0            0   \n",
       "269   67    1                4  160          286             0            2   \n",
       "\n",
       "     Max HR  Exercise angina  ST depression  Slope of ST  \\\n",
       "265     162                0            0.5            1   \n",
       "266     173                0            0.0            1   \n",
       "267     153                0            1.3            2   \n",
       "268     148                0            0.4            2   \n",
       "269     108                1            1.5            2   \n",
       "\n",
       "     Number of vessels fluro  Thallium Heart Disease  \n",
       "265                        0         7       Absence  \n",
       "266                        0         7       Absence  \n",
       "267                        0         3       Absence  \n",
       "268                        0         6       Absence  \n",
       "269                        3         3      Presence  "
      ]
     },
     "execution_count": 6,
     "metadata": {},
     "output_type": "execute_result"
    }
   ],
   "source": [
    "Data.tail()"
   ]
  },
  {
   "cell_type": "code",
   "execution_count": 7,
   "id": "15653028",
   "metadata": {},
   "outputs": [],
   "source": [
    "Data.columns = ['Age','Sex','Chest_pain_type', 'Blood_pressure','Cholesterol','Fasting_blood_sugar_over_120','EKG_results',\n",
    "'Max_heart_rate_achieved','Exercise_angina','ST_depression','Slope_of_ST','Number_of_vessels_fluro',\n",
    "'Thallium','Heart_disease']\n",
    "Data['Sex']=Data['Sex'].replace(to_replace=[0,1],\n",
    "           value=['femal','male'])\n",
    "\n",
    "Data['Chest_pain_type']=Data['Chest_pain_type'].replace(to_replace=[1,2,3,4],\n",
    "           value=['TA','ATA','NAP','ASY'])\n",
    "\n",
    "Data['Heart_disease']=Data['Heart_disease'].replace(to_replace=['Absence','Presence'],\n",
    "           value=['No heart Disease','Heart Disease'])\n"
   ]
  },
  {
   "cell_type": "markdown",
   "id": "2e21ad52",
   "metadata": {},
   "source": [
    "### concise summary of our dataset."
   ]
  },
  {
   "cell_type": "code",
   "execution_count": 8,
   "id": "75681485",
   "metadata": {
    "scrolled": false
   },
   "outputs": [
    {
     "name": "stdout",
     "output_type": "stream",
     "text": [
      "<class 'pandas.core.frame.DataFrame'>\n",
      "RangeIndex: 270 entries, 0 to 269\n",
      "Data columns (total 14 columns):\n",
      " #   Column                        Non-Null Count  Dtype  \n",
      "---  ------                        --------------  -----  \n",
      " 0   Age                           270 non-null    int64  \n",
      " 1   Sex                           270 non-null    object \n",
      " 2   Chest_pain_type               270 non-null    object \n",
      " 3   Blood_pressure                270 non-null    int64  \n",
      " 4   Cholesterol                   270 non-null    int64  \n",
      " 5   Fasting_blood_sugar_over_120  270 non-null    int64  \n",
      " 6   EKG_results                   270 non-null    int64  \n",
      " 7   Max_heart_rate_achieved       270 non-null    int64  \n",
      " 8   Exercise_angina               270 non-null    int64  \n",
      " 9   ST_depression                 270 non-null    float64\n",
      " 10  Slope_of_ST                   270 non-null    int64  \n",
      " 11  Number_of_vessels_fluro       270 non-null    int64  \n",
      " 12  Thallium                      270 non-null    int64  \n",
      " 13  Heart_disease                 270 non-null    object \n",
      "dtypes: float64(1), int64(10), object(3)\n",
      "memory usage: 29.7+ KB\n"
     ]
    }
   ],
   "source": [
    "Data.info()"
   ]
  },
  {
   "cell_type": "code",
   "execution_count": 9,
   "id": "858b455c",
   "metadata": {},
   "outputs": [
    {
     "data": {
      "text/html": [
       "<div>\n",
       "<style scoped>\n",
       "    .dataframe tbody tr th:only-of-type {\n",
       "        vertical-align: middle;\n",
       "    }\n",
       "\n",
       "    .dataframe tbody tr th {\n",
       "        vertical-align: top;\n",
       "    }\n",
       "\n",
       "    .dataframe thead th {\n",
       "        text-align: right;\n",
       "    }\n",
       "</style>\n",
       "<table border=\"1\" class=\"dataframe\">\n",
       "  <thead>\n",
       "    <tr style=\"text-align: right;\">\n",
       "      <th></th>\n",
       "      <th>count</th>\n",
       "      <th>mean</th>\n",
       "      <th>std</th>\n",
       "      <th>min</th>\n",
       "      <th>25%</th>\n",
       "      <th>50%</th>\n",
       "      <th>75%</th>\n",
       "      <th>max</th>\n",
       "    </tr>\n",
       "  </thead>\n",
       "  <tbody>\n",
       "    <tr>\n",
       "      <th>Age</th>\n",
       "      <td>270.0</td>\n",
       "      <td>54.433333</td>\n",
       "      <td>9.109067</td>\n",
       "      <td>29.0</td>\n",
       "      <td>48.0</td>\n",
       "      <td>55.0</td>\n",
       "      <td>61.0</td>\n",
       "      <td>77.0</td>\n",
       "    </tr>\n",
       "    <tr>\n",
       "      <th>Blood_pressure</th>\n",
       "      <td>270.0</td>\n",
       "      <td>131.344444</td>\n",
       "      <td>17.861608</td>\n",
       "      <td>94.0</td>\n",
       "      <td>120.0</td>\n",
       "      <td>130.0</td>\n",
       "      <td>140.0</td>\n",
       "      <td>200.0</td>\n",
       "    </tr>\n",
       "    <tr>\n",
       "      <th>Cholesterol</th>\n",
       "      <td>270.0</td>\n",
       "      <td>249.659259</td>\n",
       "      <td>51.686237</td>\n",
       "      <td>126.0</td>\n",
       "      <td>213.0</td>\n",
       "      <td>245.0</td>\n",
       "      <td>280.0</td>\n",
       "      <td>564.0</td>\n",
       "    </tr>\n",
       "    <tr>\n",
       "      <th>Fasting_blood_sugar_over_120</th>\n",
       "      <td>270.0</td>\n",
       "      <td>0.148148</td>\n",
       "      <td>0.355906</td>\n",
       "      <td>0.0</td>\n",
       "      <td>0.0</td>\n",
       "      <td>0.0</td>\n",
       "      <td>0.0</td>\n",
       "      <td>1.0</td>\n",
       "    </tr>\n",
       "    <tr>\n",
       "      <th>EKG_results</th>\n",
       "      <td>270.0</td>\n",
       "      <td>1.022222</td>\n",
       "      <td>0.997891</td>\n",
       "      <td>0.0</td>\n",
       "      <td>0.0</td>\n",
       "      <td>2.0</td>\n",
       "      <td>2.0</td>\n",
       "      <td>2.0</td>\n",
       "    </tr>\n",
       "    <tr>\n",
       "      <th>Max_heart_rate_achieved</th>\n",
       "      <td>270.0</td>\n",
       "      <td>149.677778</td>\n",
       "      <td>23.165717</td>\n",
       "      <td>71.0</td>\n",
       "      <td>133.0</td>\n",
       "      <td>153.5</td>\n",
       "      <td>166.0</td>\n",
       "      <td>202.0</td>\n",
       "    </tr>\n",
       "    <tr>\n",
       "      <th>Exercise_angina</th>\n",
       "      <td>270.0</td>\n",
       "      <td>0.329630</td>\n",
       "      <td>0.470952</td>\n",
       "      <td>0.0</td>\n",
       "      <td>0.0</td>\n",
       "      <td>0.0</td>\n",
       "      <td>1.0</td>\n",
       "      <td>1.0</td>\n",
       "    </tr>\n",
       "    <tr>\n",
       "      <th>ST_depression</th>\n",
       "      <td>270.0</td>\n",
       "      <td>1.050000</td>\n",
       "      <td>1.145210</td>\n",
       "      <td>0.0</td>\n",
       "      <td>0.0</td>\n",
       "      <td>0.8</td>\n",
       "      <td>1.6</td>\n",
       "      <td>6.2</td>\n",
       "    </tr>\n",
       "    <tr>\n",
       "      <th>Slope_of_ST</th>\n",
       "      <td>270.0</td>\n",
       "      <td>1.585185</td>\n",
       "      <td>0.614390</td>\n",
       "      <td>1.0</td>\n",
       "      <td>1.0</td>\n",
       "      <td>2.0</td>\n",
       "      <td>2.0</td>\n",
       "      <td>3.0</td>\n",
       "    </tr>\n",
       "    <tr>\n",
       "      <th>Number_of_vessels_fluro</th>\n",
       "      <td>270.0</td>\n",
       "      <td>0.670370</td>\n",
       "      <td>0.943896</td>\n",
       "      <td>0.0</td>\n",
       "      <td>0.0</td>\n",
       "      <td>0.0</td>\n",
       "      <td>1.0</td>\n",
       "      <td>3.0</td>\n",
       "    </tr>\n",
       "    <tr>\n",
       "      <th>Thallium</th>\n",
       "      <td>270.0</td>\n",
       "      <td>4.696296</td>\n",
       "      <td>1.940659</td>\n",
       "      <td>3.0</td>\n",
       "      <td>3.0</td>\n",
       "      <td>3.0</td>\n",
       "      <td>7.0</td>\n",
       "      <td>7.0</td>\n",
       "    </tr>\n",
       "  </tbody>\n",
       "</table>\n",
       "</div>"
      ],
      "text/plain": [
       "                              count        mean        std    min    25%  \\\n",
       "Age                           270.0   54.433333   9.109067   29.0   48.0   \n",
       "Blood_pressure                270.0  131.344444  17.861608   94.0  120.0   \n",
       "Cholesterol                   270.0  249.659259  51.686237  126.0  213.0   \n",
       "Fasting_blood_sugar_over_120  270.0    0.148148   0.355906    0.0    0.0   \n",
       "EKG_results                   270.0    1.022222   0.997891    0.0    0.0   \n",
       "Max_heart_rate_achieved       270.0  149.677778  23.165717   71.0  133.0   \n",
       "Exercise_angina               270.0    0.329630   0.470952    0.0    0.0   \n",
       "ST_depression                 270.0    1.050000   1.145210    0.0    0.0   \n",
       "Slope_of_ST                   270.0    1.585185   0.614390    1.0    1.0   \n",
       "Number_of_vessels_fluro       270.0    0.670370   0.943896    0.0    0.0   \n",
       "Thallium                      270.0    4.696296   1.940659    3.0    3.0   \n",
       "\n",
       "                                50%    75%    max  \n",
       "Age                            55.0   61.0   77.0  \n",
       "Blood_pressure                130.0  140.0  200.0  \n",
       "Cholesterol                   245.0  280.0  564.0  \n",
       "Fasting_blood_sugar_over_120    0.0    0.0    1.0  \n",
       "EKG_results                     2.0    2.0    2.0  \n",
       "Max_heart_rate_achieved       153.5  166.0  202.0  \n",
       "Exercise_angina                 0.0    1.0    1.0  \n",
       "ST_depression                   0.8    1.6    6.2  \n",
       "Slope_of_ST                     2.0    2.0    3.0  \n",
       "Number_of_vessels_fluro         0.0    1.0    3.0  \n",
       "Thallium                        3.0    7.0    7.0  "
      ]
     },
     "execution_count": 9,
     "metadata": {},
     "output_type": "execute_result"
    }
   ],
   "source": [
    "Data.describe().T"
   ]
  },
  {
   "cell_type": "markdown",
   "id": "46e01bed",
   "metadata": {},
   "source": [
    "### checking for null values"
   ]
  },
  {
   "cell_type": "code",
   "execution_count": 10,
   "id": "54a6c2c3",
   "metadata": {
    "scrolled": true
   },
   "outputs": [
    {
     "data": {
      "text/plain": [
       "Age                             0\n",
       "Sex                             0\n",
       "Chest_pain_type                 0\n",
       "Blood_pressure                  0\n",
       "Cholesterol                     0\n",
       "Fasting_blood_sugar_over_120    0\n",
       "EKG_results                     0\n",
       "Max_heart_rate_achieved         0\n",
       "Exercise_angina                 0\n",
       "ST_depression                   0\n",
       "Slope_of_ST                     0\n",
       "Number_of_vessels_fluro         0\n",
       "Thallium                        0\n",
       "Heart_disease                   0\n",
       "dtype: int64"
      ]
     },
     "execution_count": 10,
     "metadata": {},
     "output_type": "execute_result"
    }
   ],
   "source": [
    "Data.isna().sum()"
   ]
  },
  {
   "cell_type": "markdown",
   "id": "4b616415",
   "metadata": {},
   "source": [
    "### Checking if there are duplicates"
   ]
  },
  {
   "cell_type": "code",
   "execution_count": 11,
   "id": "23888d6e",
   "metadata": {},
   "outputs": [
    {
     "data": {
      "text/plain": [
       "0"
      ]
     },
     "execution_count": 11,
     "metadata": {},
     "output_type": "execute_result"
    }
   ],
   "source": [
    "Data.duplicated().sum()"
   ]
  },
  {
   "cell_type": "markdown",
   "id": "8547c64a",
   "metadata": {},
   "source": [
    "### Profiling the data frame "
   ]
  },
  {
   "cell_type": "code",
   "execution_count": 12,
   "id": "469bc72b",
   "metadata": {
    "scrolled": true
   },
   "outputs": [
    {
     "ename": "NameError",
     "evalue": "name 'ProfileReport' is not defined",
     "output_type": "error",
     "traceback": [
      "\u001b[1;31m---------------------------------------------------------------------------\u001b[0m",
      "\u001b[1;31mNameError\u001b[0m                                 Traceback (most recent call last)",
      "\u001b[1;32m~\\AppData\\Local\\Temp\\ipykernel_16192\\3708820223.py\u001b[0m in \u001b[0;36m<module>\u001b[1;34m\u001b[0m\n\u001b[1;32m----> 1\u001b[1;33m \u001b[0mprofile\u001b[0m\u001b[1;33m=\u001b[0m\u001b[0mProfileReport\u001b[0m\u001b[1;33m(\u001b[0m\u001b[0mData\u001b[0m\u001b[1;33m)\u001b[0m\u001b[1;33m\u001b[0m\u001b[1;33m\u001b[0m\u001b[0m\n\u001b[0m\u001b[0;32m      2\u001b[0m \u001b[0mprofile\u001b[0m\u001b[1;33m\u001b[0m\u001b[1;33m\u001b[0m\u001b[0m\n",
      "\u001b[1;31mNameError\u001b[0m: name 'ProfileReport' is not defined"
     ]
    }
   ],
   "source": [
    "profile=ProfileReport(Data)\n",
    "profile"
   ]
  },
  {
   "cell_type": "markdown",
   "id": "5bef1e0a",
   "metadata": {},
   "source": [
    "# Data ploting"
   ]
  },
  {
   "cell_type": "markdown",
   "id": "ccfd4a4e",
   "metadata": {},
   "source": [
    "### plotting histogram of all numeric values"
   ]
  },
  {
   "cell_type": "markdown",
   "id": "f27717fa",
   "metadata": {},
   "source": [
    "choose a style"
   ]
  },
  {
   "cell_type": "code",
   "execution_count": null,
   "id": "b40d3c5f",
   "metadata": {},
   "outputs": [],
   "source": [
    "plt.style.use('Solarize_Light2')"
   ]
  },
  {
   "cell_type": "code",
   "execution_count": null,
   "id": "f10e5f76",
   "metadata": {},
   "outputs": [],
   "source": [
    "Data.hist(figsize = (12, 12))\n",
    "plt.show()"
   ]
  },
  {
   "cell_type": "markdown",
   "id": "595891dd",
   "metadata": {},
   "source": [
    "## How many people have heart disease and how many people doesn't have heart disease?"
   ]
  },
  {
   "cell_type": "code",
   "execution_count": null,
   "id": "81a2dad4",
   "metadata": {
    "scrolled": false
   },
   "outputs": [],
   "source": [
    "plt.pie(Data.Heart_disease.value_counts(), autopct='%1.2f%%',  startangle=180)\n",
    "plt.title('Heart disease ratio')\n",
    "plt.legend([\"Disease\", \"No disease\"]);"
   ]
  },
  {
   "cell_type": "markdown",
   "id": "e4e241cc",
   "metadata": {},
   "source": [
    "### Number of males and females"
   ]
  },
  {
   "cell_type": "code",
   "execution_count": null,
   "id": "89fa47c4",
   "metadata": {},
   "outputs": [],
   "source": [
    "plt.pie(Data.Sex.value_counts(), autopct='%1.2f%%',  startangle=180)\n",
    "plt.title('Sex ratio')\n",
    "plt.legend([\"femal\", \"male\"]);"
   ]
  },
  {
   "cell_type": "markdown",
   "id": "fd9d1db4",
   "metadata": {},
   "source": [
    "### In diseased states, we concluded that, from a total of 270 instances,  55.56% patients had a heart disease problem and 44.44% are normal out of the total instances. "
   ]
  },
  {
   "cell_type": "markdown",
   "id": "6c6f490d",
   "metadata": {},
   "source": [
    " ## Which sex has most heart disease?"
   ]
  },
  {
   "cell_type": "code",
   "execution_count": null,
   "id": "6c3f8ed0",
   "metadata": {},
   "outputs": [],
   "source": [
    "pd.crosstab(Data.Heart_disease,Data.Sex)"
   ]
  },
  {
   "cell_type": "code",
   "execution_count": null,
   "id": "9d976ebe",
   "metadata": {
    "scrolled": false
   },
   "outputs": [],
   "source": [
    "pd.crosstab(Data.Heart_disease,Data.Sex).plot(kind=\"bar\",figsize=(10,6))\n",
    "plt.title(\"Heart Disease for each Sex\")\n",
    "plt.ylabel(\"Count\");"
   ]
  },
  {
   "cell_type": "markdown",
   "id": "c25726e7",
   "metadata": {},
   "source": [
    "### Rate heart disease in males more than in female"
   ]
  },
  {
   "cell_type": "markdown",
   "id": "01fa9f33",
   "metadata": {},
   "source": [
    "## Which Average Age for sex and heart disease?"
   ]
  },
  {
   "cell_type": "code",
   "execution_count": null,
   "id": "c887f242",
   "metadata": {},
   "outputs": [],
   "source": [
    "pd.crosstab(Data.Heart_disease,Data.Sex,values=Data.Age, aggfunc=np.average)"
   ]
  },
  {
   "cell_type": "code",
   "execution_count": null,
   "id": "98fb2dbb",
   "metadata": {
    "scrolled": false
   },
   "outputs": [],
   "source": [
    "#Average Age\n",
    "pd.crosstab(Data.Heart_disease,Data.Sex,values=Data.Age, aggfunc=np.average).plot(kind=\"bar\",figsize=(10,6))\n",
    "plt.title('Average Age for sex and heart disease')\n",
    "plt.xlabel('Count');                                                                                                                                                                                 "
   ]
  },
  {
   "cell_type": "markdown",
   "id": "d3a6b37f",
   "metadata": {},
   "source": [
    "### Risk of heart disease goes up as you get older"
   ]
  },
  {
   "cell_type": "markdown",
   "id": "35b9b16a",
   "metadata": {},
   "source": [
    "### What type of chest pain is more common in any sex?"
   ]
  },
  {
   "cell_type": "code",
   "execution_count": null,
   "id": "1435c8c9",
   "metadata": {},
   "outputs": [],
   "source": [
    "pd.crosstab(Data.Sex[Data.Heart_disease=='Heart Disease'], Data.Chest_pain_type[Data.Heart_disease=='Heart Disease'])"
   ]
  },
  {
   "cell_type": "code",
   "execution_count": null,
   "id": "1d88b976",
   "metadata": {},
   "outputs": [],
   "source": [
    "pd.crosstab(Data.Sex[Data.Heart_disease=='Heart Disease'], Data.Chest_pain_type[Data.Heart_disease=='Heart Disease']).plot(kind = 'bar')\n",
    "plt.title('Type of chest pain for sex')\n",
    "plt.xlabel('Sex');\n",
    "plt.ylabel('Count');"
   ]
  },
  {
   "cell_type": "markdown",
   "id": "1a0206b3",
   "metadata": {},
   "source": [
    "### ASY type chest pain is popular in male and female "
   ]
  },
  {
   "cell_type": "markdown",
   "id": "bf807840",
   "metadata": {},
   "source": [
    "## When people have heart disease, what is the age vs. maximum heart rate achieved?\n",
    "## When people do not have heart disease, what is the age vs. maximum heart rate achieved?"
   ]
  },
  {
   "cell_type": "code",
   "execution_count": null,
   "id": "0ce6c0d7",
   "metadata": {
    "scrolled": false
   },
   "outputs": [],
   "source": [
    "plt.scatter(Data.Max_heart_rate_achieved[Data.Heart_disease=='Heart Disease'],  \n",
    "            Data.Age[Data.Heart_disease=='Heart Disease']) \n",
    "plt.scatter(Data.Max_heart_rate_achieved[Data.Heart_disease=='No heart Disease'], \n",
    "            Data.Age[Data.Heart_disease=='No heart Disease']) \n",
    "plt.title(\"Age and Max Heart Rate Achieved\")\n",
    "plt.xlabel(\"Max Heart Rate Achieved\")\n",
    "plt.ylabel(\"Age\");\n",
    "plt.legend([\"Heart Disease\", \"No heart Disease\"])\n",
    "plt.show()"
   ]
  },
  {
   "cell_type": "markdown",
   "id": "cf845454",
   "metadata": {},
   "source": [
    "### Heart Disease is heartbeat too fast or too slow"
   ]
  },
  {
   "cell_type": "markdown",
   "id": "33271f3c",
   "metadata": {},
   "source": [
    "### Fasting blood sugar above 120 for both sexes with heart disease"
   ]
  },
  {
   "cell_type": "code",
   "execution_count": null,
   "id": "fe618eda",
   "metadata": {},
   "outputs": [],
   "source": [
    "pd.crosstab(Data.Sex[Data.Heart_disease=='Heart Disease'], Data.Fasting_blood_sugar_over_120[Data.Heart_disease=='Heart Disease'])"
   ]
  },
  {
   "cell_type": "code",
   "execution_count": null,
   "id": "422e70ee",
   "metadata": {
    "scrolled": false
   },
   "outputs": [],
   "source": [
    "pd.crosstab(Data.Sex[Data.Heart_disease=='Heart Disease'], Data.Fasting_blood_sugar_over_120[Data.Heart_disease=='Heart Disease']).plot(kind = 'bar')\n",
    "plt.title('Fasting blood sugar over 120 for sex')\n",
    "plt.xlabel('Sex');\n",
    "plt.ylabel('Count');  \n",
    "plt.legend([\"less 120\", \"over 120\"]);\n",
    "plt.show()"
   ]
  },
  {
   "cell_type": "markdown",
   "id": "326c1262",
   "metadata": {},
   "source": [
    "### For both sexes with heart disease is less than 120"
   ]
  },
  {
   "cell_type": "markdown",
   "id": "cc7dab99",
   "metadata": {},
   "source": [
    "change the style"
   ]
  },
  {
   "cell_type": "code",
   "execution_count": null,
   "id": "efc2a78e",
   "metadata": {},
   "outputs": [],
   "source": [
    "plt.style.use('dark_background')"
   ]
  },
  {
   "cell_type": "markdown",
   "id": "0bacaad8",
   "metadata": {},
   "source": [
    "### **Average cholesterol for ones that  having heart disease and for ones that not having heart disease**"
   ]
  },
  {
   "cell_type": "code",
   "execution_count": null,
   "id": "b5decaa7",
   "metadata": {},
   "outputs": [],
   "source": [
    "Cholesterol_positive=Data[Data['Heart_disease']=='Heart Disease']['Cholesterol'].mean()\n",
    "Cholesterol_negative=Data[Data['Heart_disease']=='No heart Disease']['Cholesterol'].mean()\n",
    "plt.bar(Data['Heart_disease'].unique(),[Cholesterol_positive,Cholesterol_negative])\n",
    "plt.title('heart diseases and colesterol avarege')\n",
    "plt.ylabel('colesterol')\n",
    "plt.show()"
   ]
  },
  {
   "cell_type": "markdown",
   "id": "2877c9ba",
   "metadata": {},
   "source": [
    "### **correlation matrix and correlation heatmap**"
   ]
  },
  {
   "cell_type": "code",
   "execution_count": null,
   "id": "76669482",
   "metadata": {},
   "outputs": [],
   "source": [
    "corr=Data.corr()\n",
    "corr"
   ]
  },
  {
   "cell_type": "markdown",
   "id": "61d817d1",
   "metadata": {},
   "source": [
    "change the style"
   ]
  },
  {
   "cell_type": "code",
   "execution_count": null,
   "id": "0424f176",
   "metadata": {},
   "outputs": [],
   "source": [
    "plt.style.use('seaborn-v0_8-dark')"
   ]
  },
  {
   "cell_type": "code",
   "execution_count": null,
   "id": "af419c6f",
   "metadata": {},
   "outputs": [],
   "source": [
    "plt.figure(figsize=(10,10))\n",
    "plt.imshow(Data.corr())\n",
    "plt.xticks(np.arange(corr.shape[0]), labels=corr.columns,rotation = 90)\n",
    "plt.yticks(np.arange(corr.shape[1]), labels=corr.columns)\n",
    "for i in range(corr.shape[0]):\n",
    "    for j in range(corr.shape[1]):\n",
    "        text = plt.text(j, i, '{p:8.2f}'.format(p=corr.values[i, j]),\n",
    "                       ha=\"center\", va=\"center\", color=\"r\")"
   ]
  },
  {
   "cell_type": "markdown",
   "id": "ba14ba6f",
   "metadata": {},
   "source": [
    "### **plot scatter plots for high correlated and zero correlated variables**"
   ]
  },
  {
   "cell_type": "code",
   "execution_count": null,
   "id": "bf7154f2",
   "metadata": {},
   "outputs": [],
   "source": [
    "def corr_mat(corr):\n",
    "    lst=[]\n",
    "    mn=1\n",
    "    mx=-1\n",
    "    abs_min=1\n",
    "    indx_max=[]\n",
    "    indx_min=[]\n",
    "    indx_abs=[]\n",
    "    for i, row in corr.iterrows():\n",
    "        for column in row.index:\n",
    "            if row[column] == 1:\n",
    "                continue\n",
    "            if row[column]>mx:\n",
    "                mx=row[column]\n",
    "                indx_max=[i,column]\n",
    "            if row[column]<mn:\n",
    "                mn=row[column]\n",
    "                indx_min=[i,column]\n",
    "            if np.abs(row[column]) < abs_min:\n",
    "                abs_min=row[column]\n",
    "                indx_abs=[i,column]\n",
    "    return indx_max,indx_min,indx_abs"
   ]
  },
  {
   "cell_type": "code",
   "execution_count": null,
   "id": "707e2f2b",
   "metadata": {},
   "outputs": [],
   "source": [
    "mx,mn,abs_min=corr_mat(corr)"
   ]
  },
  {
   "cell_type": "code",
   "execution_count": null,
   "id": "0993af5c",
   "metadata": {},
   "outputs": [],
   "source": [
    "plt.figure(figsize=(20,20))\n",
    "plt.suptitle('correlations',fontsize=20)\n",
    "plt.subplot(3,1,1)\n",
    "plt.scatter(Data[mx[0]],Data[mx[1]],marker='*')\n",
    "plt.xlabel(mx[0])\n",
    "plt.ylabel(mx[1])\n",
    "plt.title('positive correlation')\n",
    "\n",
    "plt.subplot(3,1,2)\n",
    "plt.scatter(Data[mn[0]],Data[mn[1]],marker='o')\n",
    "plt.xlabel(mn[0])\n",
    "plt.ylabel(mn[1])\n",
    "plt.title('negative correlation')\n",
    "\n",
    "plt.subplot(3,1,3)\n",
    "plt.scatter(Data[abs_min[0]],Data[abs_min[1]],marker='+')\n",
    "plt.xlabel(abs_min[0])\n",
    "plt.ylabel(abs_min[1])\n",
    "plt.title('positive correlation');"
   ]
  },
  {
   "cell_type": "markdown",
   "id": "1b48a49f",
   "metadata": {},
   "source": [
    "change the style"
   ]
  },
  {
   "cell_type": "code",
   "execution_count": null,
   "id": "8d98a27e",
   "metadata": {},
   "outputs": [],
   "source": [
    "plt.style.use('dark_background')"
   ]
  },
  {
   "cell_type": "markdown",
   "id": "d0a71361",
   "metadata": {},
   "source": [
    "### **line chart for max heart rate and age**"
   ]
  },
  {
   "cell_type": "code",
   "execution_count": null,
   "id": "2fdaad44",
   "metadata": {},
   "outputs": [],
   "source": [
    "ages=Data.groupby('Age')['Max_heart_rate_achieved'].mean()\n",
    "plt.figure(figsize=(15,10))\n",
    "plt.plot(ages.index,ages,linestyle='--')\n",
    "plt.title('Average max heart rate achieved for every age')\n",
    "plt.xlabel('Age')\n",
    "plt.ylabel('Average maxe heart rate achieved')\n",
    "plt.show()"
   ]
  },
  {
   "cell_type": "markdown",
   "id": "0e3d3551",
   "metadata": {},
   "source": [
    "### Average ST depression for sex and heart disease"
   ]
  },
  {
   "cell_type": "code",
   "execution_count": null,
   "id": "4d54d82e",
   "metadata": {},
   "outputs": [],
   "source": [
    "pd.crosstab(Data.Heart_disease,Data.Sex,values=Data.ST_depression, aggfunc=np.average).plot(kind=\"bar\",figsize=(10,6))\n",
    "plt.title('Average ST depression for sex and heart disease')\n",
    "plt.ylabel('Average ST depression');      "
   ]
  },
  {
   "cell_type": "markdown",
   "id": "c954ea56",
   "metadata": {},
   "source": [
    "### line chart for BP and age"
   ]
  },
  {
   "cell_type": "code",
   "execution_count": null,
   "id": "26d36576",
   "metadata": {},
   "outputs": [],
   "source": [
    "ages=Data.groupby('Age')['Blood_pressure'].mean()\n",
    "plt.figure(figsize=(15,10))\n",
    "plt.plot(ages.index,ages,linestyle='--')\n",
    "plt.title('Average BP for every age')\n",
    "plt.xlabel('Age')\n",
    "plt.ylabel('Blood pressure')\n",
    "plt.show()"
   ]
  },
  {
   "cell_type": "markdown",
   "id": "7cdcce8e",
   "metadata": {},
   "source": [
    "### Average cholesterol for both sex¶"
   ]
  },
  {
   "cell_type": "code",
   "execution_count": null,
   "id": "a87bfa57",
   "metadata": {},
   "outputs": [],
   "source": [
    "Cholesterol_positive=Data[Data['Sex']=='femal']['Cholesterol'].mean()\n",
    "Cholesterol_negative=Data[Data['Sex']=='male']['Cholesterol'].mean()\n",
    "plt.bar(Data['Sex'].unique(),[Cholesterol_positive,Cholesterol_negative])\n",
    "plt.title('Sex and colesterol avarege')\n",
    "plt.ylabel('colesterol')\n",
    "plt.show()"
   ]
  },
  {
   "cell_type": "code",
   "execution_count": null,
   "id": "4506b0d1",
   "metadata": {},
   "outputs": [],
   "source": []
  }
 ],
 "metadata": {
  "kernelspec": {
   "display_name": "Python 3 (ipykernel)",
   "language": "python",
   "name": "python3"
  },
  "language_info": {
   "codemirror_mode": {
    "name": "ipython",
    "version": 3
   },
   "file_extension": ".py",
   "mimetype": "text/x-python",
   "name": "python",
   "nbconvert_exporter": "python",
   "pygments_lexer": "ipython3",
   "version": "3.9.13"
  }
 },
 "nbformat": 4,
 "nbformat_minor": 5
}
